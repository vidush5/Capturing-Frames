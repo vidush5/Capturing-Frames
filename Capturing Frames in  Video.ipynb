{
 "cells": [
  {
   "cell_type": "code",
   "execution_count": 5,
   "metadata": {},
   "outputs": [],
   "source": [
    "# import the necessary packages\n",
    "import cv2\n",
    "def count_frames(path, override=False):\n",
    "    video = cv2.VideoCapture('clip_1.mp4')\n",
    "    total = 0\n",
    "    \n",
    "    if override:\n",
    "        total = count_frames_manual(video)\n",
    "        \n",
    "    else:\n",
    "        try:\n",
    "            if is_cv3():\n",
    "                total = int(video.get(cv2.CAP_PROP_FRAME_COUNT))\n",
    "\n",
    "            else:\n",
    "                total = int(video.get(cv2.cv.CV_CAP_PROP_FRAME_COUNT))\n",
    "            \n",
    "        except:\n",
    "                total = count_frames_manual(video)\n",
    "    video.release()\n",
    "    return total   "
   ]
  },
  {
   "cell_type": "code",
   "execution_count": 6,
   "metadata": {},
   "outputs": [],
   "source": [
    "def count_frames_manual(video):\n",
    "\n",
    "    total = 0\n",
    "\n",
    "    while True:\n",
    "\n",
    "        (grabbed, frame) = video.read()\n",
    "\n",
    "\n",
    "        if not grabbed:\n",
    "            break\n",
    "        total += 1\n",
    "\n",
    "    return total"
   ]
  },
  {
   "cell_type": "code",
   "execution_count": null,
   "metadata": {},
   "outputs": [],
   "source": []
  }
 ],
 "metadata": {
  "kernelspec": {
   "display_name": "Python 3",
   "language": "python",
   "name": "python3"
  },
  "language_info": {
   "codemirror_mode": {
    "name": "ipython",
    "version": 3
   },
   "file_extension": ".py",
   "mimetype": "text/x-python",
   "name": "python",
   "nbconvert_exporter": "python",
   "pygments_lexer": "ipython3",
   "version": "3.7.6"
  }
 },
 "nbformat": 4,
 "nbformat_minor": 4
}
